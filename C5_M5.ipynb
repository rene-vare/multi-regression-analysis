{
 "cells": [
  {
   "cell_type": "markdown",
   "id": "62f0dbec-ae25-4bb4-b446-3abf132e44cc",
   "metadata": {},
   "source": [
    "**Разработка модели машинного обучения**\n",
    "1. Обучающая выборка данных разделена на обучающую и тестовую выборку\n",
    "2. Испытано как минимум три алгоритма разной сущности. Для оценки точности следует использовать\n",
    "тестовую выборку ( RandomForest, GradientBoosting, LinearRegression)\n",
    "3. Испытанные алгоритмы сравнены по точности, а также по скорости работы\n",
    "4. Лучший алгоритм реализован в виде пайплайна, принимающего на вход пути к файлам, а на\n",
    "выходе возвращает обученную модель, а также метрики модели на валидационной выборке в\n",
    "виде словаря (необходимые метрики: средний коэффициент детерминации R2 и средний RMSE)."
   ]
  },
  {
   "cell_type": "code",
   "execution_count": 1,
   "id": "7074688b-d72d-4b99-af05-85aea77c8458",
   "metadata": {},
   "outputs": [],
   "source": [
    "import pandas as pd\n",
    "import numpy as np\n",
    "from sklearn.model_selection import train_test_split\n",
    "from sklearn.ensemble import RandomForestRegressor, GradientBoostingRegressor\n",
    "from sklearn.linear_model import LinearRegression\n",
    "from sklearn.metrics import mean_squared_error, r2_score\n",
    "import time\n",
    "import joblib"
   ]
  },
  {
   "cell_type": "raw",
   "id": "7fbfca45-9a94-4dc5-acfa-d435e6c56c81",
   "metadata": {},
   "source": [
    "Загрузка данных для обучения модели"
   ]
  },
  {
   "cell_type": "code",
   "execution_count": 6,
   "id": "bdf7fb39-6c3c-454a-b4a9-7199ab516e4a",
   "metadata": {},
   "outputs": [],
   "source": [
    "def optimize_types(df):\n",
    "    \"\"\"Оптимизация типов данных в DataFrame.\"\"\"\n",
    "    for col in df.select_dtypes(include=['float']):\n",
    "        df[col] = pd.to_numeric(df[col], downcast='float')\n",
    "    for col in df.select_dtypes(include=['int']):\n",
    "        df[col] = pd.to_numeric(df[col], downcast='integer')\n",
    "    for col in df.select_dtypes(include=['object']):\n",
    "        df[col] = df[col].astype('category')\n",
    "    return df"
   ]
  },
  {
   "cell_type": "code",
   "execution_count": 7,
   "id": "bd5aadab-32c2-48ff-aa9a-b31070b479b4",
   "metadata": {},
   "outputs": [],
   "source": [
    "def load_data_in_chunks(X_path, y_path, chunk_size=100000):\n",
    "    \"\"\"Генератор для загрузки данных по частям.\"\"\"\n",
    "    for X_chunk, y_chunk in zip(pd.read_csv(X_path, chunksize=chunk_size), pd.read_csv(y_path, chunksize=chunk_size)):\n",
    "        X_chunk = optimize_types(X_chunk)  # Оптимизация типов данных\n",
    "        y_chunk = optimize_types(y_chunk)  # Оптимизация типов данных\n",
    "        yield X_chunk, y_chunk\n"
   ]
  },
  {
   "cell_type": "code",
   "execution_count": 8,
   "id": "62f5eb46-bc3c-4770-a10b-c2851451f6c1",
   "metadata": {},
   "outputs": [],
   "source": [
    "def load_full_data(X_path, y_path):\n",
    "    \"\"\"Загрузка всех данных из файлов по частям и объединение в один DataFrame.\"\"\"\n",
    "    X_data = pd.DataFrame()\n",
    "    y_data = pd.DataFrame()\n",
    "\n",
    "    for X_chunk, y_chunk in load_data_in_chunks(X_path, y_path):\n",
    "        X_data = pd.concat([X_data, X_chunk], ignore_index=True)\n",
    "        y_data = pd.concat([y_data, y_chunk], ignore_index=True)\n",
    "\n",
    "    return X_data, y_data"
   ]
  },
  {
   "cell_type": "markdown",
   "id": "1e661a8e-12f4-49b5-bdbd-0711e8353d44",
   "metadata": {},
   "source": [
    "Обучим 3 модели : случайный лес, градиентный бустинг и линейная регрессия"
   ]
  },
  {
   "cell_type": "code",
   "execution_count": 5,
   "id": "4f2aefff-4996-44be-b6bb-97b478f0041e",
   "metadata": {},
   "outputs": [],
   "source": [
    "def train_and_evaluate(X, y):\n",
    "    \"\"\"Обучение и оценка моделей.\"\"\"\n",
    "    models = {\n",
    "        'RandomForest': RandomForestRegressor(),\n",
    "        'GradientBoosting': GradientBoostingRegressor(),\n",
    "        'LinearRegression': LinearRegression()\n",
    "    }\n",
    "    \n",
    "    results = {}\n",
    "    \n",
    "    # Разделение данных на обучающую и тестовую выборки\n",
    "    X_train, X_test, y_train, y_test = train_test_split(X, y, test_size=0.2, random_state=42)\n",
    "    \n",
    "    for name, model in models.items():\n",
    "        start_time = time.time()\n",
    "        model.fit(X_train, y_train)\n",
    "        y_pred = model.predict(X_test)\n",
    "        end_time = time.time()\n",
    "        \n",
    "        rmse = np.sqrt(mean_squared_error(y_test, y_pred))\n",
    "        r2 = r2_score(y_test, y_pred)\n",
    "        \n",
    "        results[name] = {\n",
    "            'RMSE': rmse,\n",
    "            'R2': r2,\n",
    "            'Time': end_time - start_time\n",
    "        }\n",
    "    \n",
    "    return results"
   ]
  },
  {
   "cell_type": "code",
   "execution_count": null,
   "id": "3af2a02f-c397-411e-ab06-8ec43550dc4d",
   "metadata": {},
   "outputs": [],
   "source": [
    "def best_model_pipeline(X_path, y_path):\n",
    "    \"\"\"Основная функция для обработки данных и обучения моделей.\"\"\"\n",
    "    # Загрузка всех данных\n",
    "    X_data, y_data = load_full_data(X_path, y_path)\n",
    "\n",
    "    # Обучение и оценка моделей\n",
    "    metrics = train_and_evaluate(X_data, y_data)\n",
    "\n",
    "    # Сравнение результатов\n",
    "    best_model_name = min(metrics, key=lambda k: metrics[k]['RMSE'])\n",
    "    best_model = models[best_model_name]\n",
    "\n",
    "    # Обучение лучшей модели на всей выборке\n",
    "    best_model.fit(X_data, y_data)\n",
    "\n",
    "    # Сохранение модели\n",
    "    joblib.dump(best_model, 'best_model.pkl')\n",
    "\n",
    "    return best_model, metrics"
   ]
  },
  {
   "cell_type": "code",
   "execution_count": null,
   "id": "9eaf290f-751d-40e1-9399-b16fa373269a",
   "metadata": {},
   "outputs": [],
   "source": [
    "X_path = '/home/c5/Рабочий стол/Модуль 4/BIG DATA/df_0.csv'  # Путь к файлу с признаками\n",
    "y_path = '/home/c5/Рабочий стол/Модуль 4/BIG DATA/target_0.csv'  # Путь к файлу с целевой переменной\n",
    "\n",
    "best_model, metrics = best_model_pipeline(X_path, y_path)\n",
    "\n",
    "print(\"Лучшие метрики модели:\")\n",
    "print(metrics)"
   ]
  },
  {
   "cell_type": "code",
   "execution_count": null,
   "id": "12b6ce44-5041-4b82-8d0f-bc56a11072d7",
   "metadata": {},
   "outputs": [],
   "source": []
  }
 ],
 "metadata": {
  "kernelspec": {
   "display_name": "Python 3 (ipykernel)",
   "language": "python",
   "name": "python3"
  },
  "language_info": {
   "codemirror_mode": {
    "name": "ipython",
    "version": 3
   },
   "file_extension": ".py",
   "mimetype": "text/x-python",
   "name": "python",
   "nbconvert_exporter": "python",
   "pygments_lexer": "ipython3",
   "version": "3.11.2"
  }
 },
 "nbformat": 4,
 "nbformat_minor": 5
}
